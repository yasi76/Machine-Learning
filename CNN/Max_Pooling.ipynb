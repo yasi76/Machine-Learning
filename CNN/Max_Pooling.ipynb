{
  "nbformat": 4,
  "nbformat_minor": 0,
  "metadata": {
    "colab": {
      "provenance": []
    },
    "kernelspec": {
      "name": "python3",
      "display_name": "Python 3"
    },
    "language_info": {
      "name": "python"
    }
  },
  "cells": [
    {
      "cell_type": "code",
      "execution_count": 1,
      "metadata": {
        "id": "PQjGlCX4boBW",
        "outputId": "84293c70-e820-4ca5-bf92-8371c3223260",
        "colab": {
          "base_uri": "https://localhost:8080/"
        }
      },
      "outputs": [
        {
          "output_type": "stream",
          "name": "stdout",
          "text": [
            "Max Pooled Result:\n",
            " [[2 1]\n",
            " [2 1]]\n"
          ]
        }
      ],
      "source": [
        "from keras.layers import MaxPooling2D\n",
        "import numpy as np\n",
        "\n",
        "# Example 2D input feature map (add a channel dimension)\n",
        "feature_map = np.array([[1, 2, 1, 0],\n",
        "                         [0, 1, 1, 0],\n",
        "                         [1, 2, 1, 0],\n",
        "                         [0, 1, 1, 0]])\n",
        "\n",
        "# Reshape feature map to add batch and channel dimensions\n",
        "# Shape becomes (1, 4, 4, 1): 1 sample, 4x4 feature map, 1 channel\n",
        "feature_map = np.expand_dims(feature_map, axis=0)  # Adds batch dimension (1, 4, 4)\n",
        "feature_map = np.expand_dims(feature_map, axis=-1)  # Adds channel dimension (1, 4, 4, 1)\n",
        "\n",
        "# Apply Max Pooling (2x2)\n",
        "pooling_layer = MaxPooling2D(pool_size=(2, 2))\n",
        "result = pooling_layer(feature_map).numpy()\n",
        "\n",
        "# The result has shape (1, 2, 2, 1) because of 2x2 max pooling\n",
        "# Removing batch and channel dimensions for display\n",
        "print(\"Max Pooled Result:\\n\", result[0, :, :, 0])\n"
      ]
    },
    {
      "cell_type": "code",
      "source": [],
      "metadata": {
        "id": "iyk8peoJ3Ind"
      },
      "execution_count": 1,
      "outputs": []
    }
  ]
}