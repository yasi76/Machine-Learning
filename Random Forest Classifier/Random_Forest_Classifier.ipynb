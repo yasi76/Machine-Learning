{
  "nbformat": 4,
  "nbformat_minor": 0,
  "metadata": {
    "colab": {
      "provenance": []
    },
    "kernelspec": {
      "name": "python3",
      "display_name": "Python 3"
    },
    "language_info": {
      "name": "python"
    }
  },
  "cells": [
    {
      "cell_type": "code",
      "execution_count": 1,
      "metadata": {
        "id": "PQjGlCX4boBW",
        "outputId": "6005fd60-4824-42ad-b4b9-a2b1eedc074a",
        "colab": {
          "base_uri": "https://localhost:8080/"
        }
      },
      "outputs": [
        {
          "output_type": "stream",
          "name": "stdout",
          "text": [
            "Random Forest Accuracy: 0.9666666666666667\n"
          ]
        }
      ],
      "source": [
        "from sklearn.datasets import load_iris\n",
        "from sklearn.ensemble import RandomForestClassifier\n",
        "\n",
        "# Load the iris dataset\n",
        "iris = load_iris()\n",
        "X, y = iris.data, iris.target\n",
        "\n",
        "# Create and fit the random forest model\n",
        "rf_model = RandomForestClassifier(n_estimators=100, max_depth=3, random_state=42)\n",
        "rf_model.fit(X, y)\n",
        "\n",
        "# Evaluate the random forest model\n",
        "accuracy_rf = rf_model.score(X, y)\n",
        "print(\"Random Forest Accuracy:\", accuracy_rf)\n",
        "\n"
      ]
    }
  ]
}