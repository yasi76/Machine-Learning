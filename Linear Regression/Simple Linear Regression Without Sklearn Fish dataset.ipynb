{
 "cells": [
  {
   "cell_type": "code",
   "execution_count": 41,
   "id": "british-violin",
   "metadata": {},
   "outputs": [],
   "source": [
    "import matplotlib.pyplot as plt\n",
    "import pandas as pd\n",
    "import pylab as pl\n",
    "import numpy as np\n",
    "%matplotlib inline"
   ]
  },
  {
   "cell_type": "code",
   "execution_count": 42,
   "id": "loved-department",
   "metadata": {},
   "outputs": [],
   "source": [
    "df = pd.read_csv('Fish.csv')"
   ]
  },
  {
   "cell_type": "code",
   "execution_count": 43,
   "id": "lesser-elimination",
   "metadata": {},
   "outputs": [
    {
     "data": {
      "text/html": [
       "<div>\n",
       "<style scoped>\n",
       "    .dataframe tbody tr th:only-of-type {\n",
       "        vertical-align: middle;\n",
       "    }\n",
       "\n",
       "    .dataframe tbody tr th {\n",
       "        vertical-align: top;\n",
       "    }\n",
       "\n",
       "    .dataframe thead th {\n",
       "        text-align: right;\n",
       "    }\n",
       "</style>\n",
       "<table border=\"1\" class=\"dataframe\">\n",
       "  <thead>\n",
       "    <tr style=\"text-align: right;\">\n",
       "      <th></th>\n",
       "      <th>Species</th>\n",
       "      <th>Weight</th>\n",
       "      <th>Length1</th>\n",
       "      <th>Length2</th>\n",
       "      <th>Length3</th>\n",
       "      <th>Height</th>\n",
       "      <th>Width</th>\n",
       "    </tr>\n",
       "  </thead>\n",
       "  <tbody>\n",
       "    <tr>\n",
       "      <th>0</th>\n",
       "      <td>Bream</td>\n",
       "      <td>242.0</td>\n",
       "      <td>23.2</td>\n",
       "      <td>25.4</td>\n",
       "      <td>30.0</td>\n",
       "      <td>11.5200</td>\n",
       "      <td>4.0200</td>\n",
       "    </tr>\n",
       "    <tr>\n",
       "      <th>1</th>\n",
       "      <td>Bream</td>\n",
       "      <td>290.0</td>\n",
       "      <td>24.0</td>\n",
       "      <td>26.3</td>\n",
       "      <td>31.2</td>\n",
       "      <td>12.4800</td>\n",
       "      <td>4.3056</td>\n",
       "    </tr>\n",
       "    <tr>\n",
       "      <th>2</th>\n",
       "      <td>Bream</td>\n",
       "      <td>340.0</td>\n",
       "      <td>23.9</td>\n",
       "      <td>26.5</td>\n",
       "      <td>31.1</td>\n",
       "      <td>12.3778</td>\n",
       "      <td>4.6961</td>\n",
       "    </tr>\n",
       "    <tr>\n",
       "      <th>3</th>\n",
       "      <td>Bream</td>\n",
       "      <td>363.0</td>\n",
       "      <td>26.3</td>\n",
       "      <td>29.0</td>\n",
       "      <td>33.5</td>\n",
       "      <td>12.7300</td>\n",
       "      <td>4.4555</td>\n",
       "    </tr>\n",
       "    <tr>\n",
       "      <th>4</th>\n",
       "      <td>Bream</td>\n",
       "      <td>430.0</td>\n",
       "      <td>26.5</td>\n",
       "      <td>29.0</td>\n",
       "      <td>34.0</td>\n",
       "      <td>12.4440</td>\n",
       "      <td>5.1340</td>\n",
       "    </tr>\n",
       "  </tbody>\n",
       "</table>\n",
       "</div>"
      ],
      "text/plain": [
       "  Species  Weight  Length1  Length2  Length3   Height   Width\n",
       "0   Bream   242.0     23.2     25.4     30.0  11.5200  4.0200\n",
       "1   Bream   290.0     24.0     26.3     31.2  12.4800  4.3056\n",
       "2   Bream   340.0     23.9     26.5     31.1  12.3778  4.6961\n",
       "3   Bream   363.0     26.3     29.0     33.5  12.7300  4.4555\n",
       "4   Bream   430.0     26.5     29.0     34.0  12.4440  5.1340"
      ]
     },
     "execution_count": 43,
     "metadata": {},
     "output_type": "execute_result"
    }
   ],
   "source": [
    "df.head()"
   ]
  },
  {
   "cell_type": "code",
   "execution_count": 44,
   "id": "abstract-gateway",
   "metadata": {},
   "outputs": [
    {
     "name": "stdout",
     "output_type": "stream",
     "text": [
      "[4.02   4.3056 4.6961 4.4555 5.134  4.9274 5.2785 4.69   4.8438 4.9594\n",
      " 5.1042 4.8146 4.368  5.0728 5.1708 5.58   5.2854 5.1975 5.1338 5.7276\n",
      " 5.5695 5.3704 5.2801 6.1306 5.589  6.0532 6.09   5.8515 6.1984 6.603\n",
      " 6.3063 6.292  6.7497 6.7473 6.3705 2.268  2.8217 2.9044 3.1746 3.5742\n",
      " 3.3516 3.3957 3.2943 3.7544 3.5478 3.8203 3.325  3.8    3.8352 3.6312\n",
      " 4.1272 3.906  4.4968 4.7736 5.355  4.2476 4.2485 4.6816 6.562  6.5736\n",
      " 6.525  2.3265 2.3142 2.673  2.9181 3.2928 3.2944 3.4104 3.1571 3.6636\n",
      " 4.144  4.234  1.408  1.9992 2.432  2.6316 2.9415 3.3216 3.1234 3.0502\n",
      " 3.0368 2.772  3.555  3.3075 3.6675 3.534  3.4075 3.525  3.525  3.525\n",
      " 3.995  3.624  3.624  3.63   3.626  3.725  3.723  3.825  4.1658 3.6835\n",
      " 4.239  4.144  5.1373 4.335  4.335  4.5662 4.2042 4.6354 4.7716 6.018\n",
      " 6.3875 7.7957 6.864  6.7408 6.2646 6.3666 7.4934 6.003  7.3514 7.1064\n",
      " 7.225  7.4624 6.63   6.8684 7.2772 7.4165 8.142  7.5958 3.3756 4.158\n",
      " 4.3844 4.0198 4.5765 3.977  4.3225 4.459  5.1296 4.896  4.87   5.376\n",
      " 6.1712 6.9849 6.144  6.144  7.48   1.0476 1.16   1.1484 1.38   1.2772\n",
      " 1.2852 1.2838 1.1659 1.1484 1.3936 1.269  1.2558 2.0672 1.8792]\n",
      "[ 242.   290.   340.   363.   430.   450.   500.   390.   450.   500.\n",
      "  475.   500.   500.   340.   600.   600.   700.   700.   610.   650.\n",
      "  575.   685.   620.   680.   700.   725.   720.   714.   850.  1000.\n",
      "  920.   955.   925.   975.   950.    40.    69.    78.    87.   120.\n",
      "    0.   110.   120.   150.   145.   160.   140.   160.   169.   161.\n",
      "  200.   180.   290.   272.   390.   270.   270.   306.   540.   800.\n",
      " 1000.    55.    60.    90.   120.   150.   140.   170.   145.   200.\n",
      "  273.   300.     5.9   32.    40.    51.5   70.   100.    78.    80.\n",
      "   85.    85.   110.   115.   125.   130.   120.   120.   130.   135.\n",
      "  110.   130.   150.   145.   150.   170.   225.   145.   188.   180.\n",
      "  197.   218.   300.   260.   265.   250.   250.   300.   320.   514.\n",
      "  556.   840.   685.   700.   700.   690.   900.   650.   820.   850.\n",
      "  900.  1015.   820.  1100.  1000.  1100.  1000.  1000.   200.   300.\n",
      "  300.   300.   430.   345.   456.   510.   540.   500.   567.   770.\n",
      "  950.  1250.  1600.  1550.  1650.     6.7    7.5    7.     9.7    9.8\n",
      "    8.7   10.     9.9    9.8   12.2   13.4   12.2   19.7   19.9]\n"
     ]
    }
   ],
   "source": [
    "#Separating the independent and dependent features\n",
    "X = df['Width'].values  #Independent feature\n",
    "Y = df['Weight'].values #Dependent feature\n",
    "print(X)\n",
    "print(Y)"
   ]
  },
  {
   "cell_type": "code",
   "execution_count": 49,
   "id": "technical-anderson",
   "metadata": {},
   "outputs": [
    {
     "data": {
      "image/png": "[encoded data removed]",
      "text/plain": [
       "<Figure size 432x288 with 1 Axes>"
      ]
     },
     "metadata": {
      "needs_background": "light"
     },
     "output_type": "display_data"
    }
   ],
   "source": [
    "plt.scatter(df.Width, df.Weight,  color='blue')\n",
    "plt.xlabel(\"Width\")\n",
    "plt.ylabel(\"Weight\")\n",
    "plt.show()"
   ]
  },
  {
   "cell_type": "code",
   "execution_count": 50,
   "id": "educational-torture",
   "metadata": {},
   "outputs": [
    {
     "name": "stdout",
     "output_type": "stream",
     "text": [
      "4.417485534591195\n",
      "398.3264150943396\n"
     ]
    }
   ],
   "source": [
    "# calculate mean of x & y using an inbuilt numpy method mean()\n",
    "mean_x = np.mean(X)\n",
    "mean_y = np.mean(Y)\n",
    "print(mean_x)\n",
    "print(mean_y)"
   ]
  },
  {
   "cell_type": "code",
   "execution_count": 53,
   "id": "conditional-greene",
   "metadata": {},
   "outputs": [
    {
     "name": "stdout",
     "output_type": "stream",
     "text": [
      "theta1 = 188.24855477270566 \n",
      " theta0 = -433.258852521786\n",
      "[ 323.50033766  377.26412491  450.77518555  405.48258327  533.20922768\n",
      "  494.31707627  560.41114385  449.62686936  478.57949709  500.34103002\n",
      "  527.59942075  473.08263929  389.01083473  521.68841613  540.1367745\n",
      "  617.16808311  561.71005887  545.16301091  533.17157797  644.95356979\n",
      "  615.19147328  577.71118603  560.71234153  720.81773737  618.8623201\n",
      "  706.24729923  713.17484604  668.27756573  733.58098938  809.74635464\n",
      "  753.89300844  751.20105411  837.36241763  836.9106211   765.97856566\n",
      "   -6.3111303    97.92209448  113.49024996  164.35500946  239.57913195\n",
      "  197.67500365  205.97676492  186.88836147  273.50152152  234.6093701\n",
      "  285.90710128  192.6675921   282.08565561  288.71200474  250.30929957\n",
      "  343.68058274  302.04000242  413.25724858  465.36444854  574.81215829\n",
      "  366.34570873  366.51513243  448.0455815   802.0281639   804.21184713\n",
      "  795.06296737    4.70141016    2.38595293   69.92953439  116.06925516\n",
      "  186.60598863  186.90718632  208.74401868  161.06065975  256.40855274\n",
      "  346.84315846  363.78552839 -168.2048874   -56.91234182   24.56163269\n",
      "   62.13604422  120.47427134  192.02754701  154.71668346  140.93688925\n",
      "  138.41435861   88.56614131  235.9647597   189.37324239  257.14272211\n",
      "  232.01154004  208.19809787  230.31730305  230.31730305  230.31730305\n",
      "  318.7941238   248.95390997  248.95390997  250.0834013   249.33040708\n",
      "  267.96701401  267.5905169   286.79186948  350.94697695  260.15469898\n",
      "  364.72677116  346.84315846  533.83044791  382.79863242  382.79863242\n",
      "  426.32169828  358.17572145  439.34849827  464.98795143  699.6209501\n",
      "  769.17879109 1034.27040592  858.87922744  835.68700549  746.04304371\n",
      "  765.24439629  977.36286781  696.79722178  950.63157303  904.51067711\n",
      "  926.83695571  971.52716261  814.82906562  859.70752108  936.66353027\n",
      "  962.88655395 1099.46088044  996.63951982  202.19296897  349.47863822\n",
      "  392.09811102  323.46268795  428.2606584   315.40564981  380.44552548\n",
      "  406.14145321  532.38093404  488.40607165  483.51160922  578.76537794\n",
      "  728.46062869  881.63847771  723.340268    723.340268    974.84033718\n",
      " -236.04966654 -214.89052899 -217.07421222 -173.47584694 -192.82779837\n",
      " -191.32180993 -191.5853579  -213.77986251 -217.07421222 -170.91566659\n",
      " -194.37143652 -196.85631744  -44.1114401   -79.50216839]\n"
     ]
    }
   ],
   "source": [
    "f = len(X)\n",
    "Sum_Soorat = 0\n",
    "Sum_Makhraj = 0\n",
    "for i in range(f):\n",
    "    Sum_Soorat += (X[i]- mean_x) * (Y[i] - mean_y)\n",
    "    Sum_Makhraj += (X[i]- mean_x) ** 2 \n",
    "theta1 = Sum_Soorat / Sum_Makhraj\n",
    "theta0 = mean_y - (theta1 * mean_x)\n",
    "print (f'theta1 = {theta1} \\n theta0 = {theta0}')\n",
    "y = theta0 + theta1 * X\n",
    "print(y)"
   ]
  },
  {
   "cell_type": "code",
   "execution_count": 54,
   "id": "regional-sterling",
   "metadata": {},
   "outputs": [
    {
     "data": {
      "image/png": "[encoded data removed]",
      "text/plain": [
       "<Figure size 432x288 with 1 Axes>"
      ]
     },
     "metadata": {
      "needs_background": "light"
     },
     "output_type": "display_data"
    }
   ],
   "source": [
    "# plotting values and regression line\n",
    "max_x = np.max(X) \n",
    "min_x = np.min(X) \n",
    "\n",
    "# calculating line values x and y\n",
    "x = np.linspace (max_x, min_x, 100)\n",
    "y = theta0 + theta1 * x\n",
    "\n",
    "plt.plot(x, y, color='#58b970', label='Regression Line')\n",
    "plt.scatter(X, Y, c='#ef5423', label='data points')\n",
    "\n",
    "plt.xlabel('ENGINESIZE')\n",
    "plt.ylabel('CO2EMISSIONS')\n",
    "plt.legend()\n",
    "plt.show()"
   ]
  },
  {
   "cell_type": "code",
   "execution_count": 55,
   "id": "periodic-valuable",
   "metadata": {},
   "outputs": [
    {
     "name": "stdout",
     "output_type": "stream",
     "text": [
      "r2 = 0.7858939611400794 \n"
     ]
    }
   ],
   "source": [
    "f = len(X)\n",
    "Sum_Soorat = 0\n",
    "Sum_Makhraj = 0\n",
    "for i in range(f):\n",
    "    Yhat = theta0 + theta1 * X[i]\n",
    "    Sum_Soorat += (Y[i]- Yhat) ** 2\n",
    "    Sum_Makhraj += (Y[i]- mean_y) ** 2 \n",
    "RSE = Sum_Soorat / Sum_Makhraj\n",
    "r2 = 1- RSE\n",
    "print (f'r2 = {r2} ')"
   ]
  },
  {
   "cell_type": "code",
   "execution_count": null,
   "id": "numerical-investigation",
   "metadata": {},
   "outputs": [],
   "source": []
  }
 ],
 "metadata": {
  "kernelspec": {
   "display_name": "Python 3",
   "language": "python",
   "name": "python3"
  },
  "language_info": {
   "codemirror_mode": {
    "name": "ipython",
    "version": 3
   },
   "file_extension": ".py",
   "mimetype": "text/x-python",
   "name": "python",
   "nbconvert_exporter": "python",
   "pygments_lexer": "ipython3",
   "version": "3.8.6"
  }
 },
 "nbformat": 4,
 "nbformat_minor": 5
}
