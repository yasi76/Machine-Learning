{
  "nbformat": 4,
  "nbformat_minor": 0,
  "metadata": {
    "colab": {
      "provenance": []
    },
    "kernelspec": {
      "name": "python3",
      "display_name": "Python 3"
    },
    "language_info": {
      "name": "python"
    }
  },
  "cells": [
    {
      "cell_type": "code",
      "execution_count": 2,
      "metadata": {
        "id": "PQjGlCX4boBW",
        "outputId": "06f1bb5e-d4b3-409c-e1a3-2711ae9df2ea",
        "colab": {
          "base_uri": "https://localhost:8080/"
        }
      },
      "outputs": [
        {
          "output_type": "stream",
          "name": "stdout",
          "text": [
            "Ridge Predictions: [1.0952381  2.04761905 3.         3.95238095 4.9047619 ]\n",
            "Lasso Predictions: [1.2 2.1 3.  3.9 4.8]\n"
          ]
        }
      ],
      "source": [
        "import numpy as np\n",
        "from sklearn.linear_model import Ridge, Lasso\n",
        "\n",
        "# Sample data (X = features, Y = target variable)\n",
        "X = np.array([[1], [2], [3], [4], [5]])\n",
        "Y = np.array([1, 2, 3, 4, 5])\n",
        "\n",
        "# Ridge Regression\n",
        "ridge_model = Ridge(alpha=0.5)\n",
        "ridge_model.fit(X, Y)\n",
        "Y_ridge_pred = ridge_model.predict(X)\n",
        "\n",
        "# Lasso Regression\n",
        "lasso_model = Lasso(alpha=0.2)\n",
        "lasso_model.fit(X, Y)\n",
        "Y_lasso_pred = lasso_model.predict(X)\n",
        "\n",
        "print(\"Ridge Predictions:\", Y_ridge_pred)\n",
        "print(\"Lasso Predictions:\", Y_lasso_pred)\n"
      ]
    }
  ]
}