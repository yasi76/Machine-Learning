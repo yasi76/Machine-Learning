{
  "nbformat": 4,
  "nbformat_minor": 0,
  "metadata": {
    "colab": {
      "provenance": []
    },
    "kernelspec": {
      "name": "python3",
      "display_name": "Python 3"
    },
    "language_info": {
      "name": "python"
    }
  },
  "cells": [
    {
      "cell_type": "code",
      "execution_count": 1,
      "metadata": {
        "id": "PQjGlCX4boBW",
        "outputId": "51283cf1-2993-4c74-e041-d4107c6bf6ba",
        "colab": {
          "base_uri": "https://localhost:8080/"
        }
      },
      "outputs": [
        {
          "output_type": "stream",
          "name": "stdout",
          "text": [
            "AdaBoost Accuracy: 0.98\n",
            "Gradient Boosting Accuracy: 1.0\n"
          ]
        }
      ],
      "source": [
        "from sklearn.datasets import load_iris\n",
        "from sklearn.ensemble import AdaBoostClassifier\n",
        "from sklearn.ensemble import GradientBoostingClassifier\n",
        "\n",
        "# Load the iris dataset\n",
        "iris = load_iris()\n",
        "X, y = iris.data, iris.target\n",
        "\n",
        "# Create and fit the AdaBoost model\n",
        "ada_model = AdaBoostClassifier(n_estimators=50, random_state=42)\n",
        "ada_model.fit(X, y)\n",
        "\n",
        "# Evaluate the AdaBoost model\n",
        "accuracy_ada = ada_model.score(X, y)\n",
        "print(\"AdaBoost Accuracy:\", accuracy_ada)\n",
        "\n",
        "# Create and fit the gradient boosting model\n",
        "gb_model = GradientBoostingClassifier(n_estimators=100, max_depth=3, random_state=42)\n",
        "gb_model.fit(X, y)\n",
        "\n",
        "# Evaluate the gradient boosting model\n",
        "accuracy_gb = gb_model.score(X, y)\n",
        "print(\"Gradient Boosting Accuracy:\", accuracy_gb)\n",
        "\n"
      ]
    }
  ]
}